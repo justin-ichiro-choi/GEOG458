{
 "cells": [
  {
   "cell_type": "markdown",
   "metadata": {},
   "source": [
    "Notebook by Justin Choi"
   ]
  },
  {
   "cell_type": "markdown",
   "metadata": {},
   "source": [
    "### Task 1\n",
    "\n",
    "For a Jupyter Notebook that I found interesting, I found this [notebook](https://nbviewer.jupyter.org/gist/nealcaren/5105037) about the New York Times and thewords that are used in correlation with different gender. Processing words and sentences can be a difficult thing in R and other languages, so seeing them use Jupyter to determine the ratio of words related to \"male\" and \"female\" to be an interesting exercise of Anaconda's wide array of libraries. This notebook shows here that there always seemsto be a library for anything. "
   ]
  },
  {
   "cell_type": "markdown",
   "metadata": {},
   "source": [
    "### Task 2\n",
    "\n",
    "Some of the most popular libraries are used for various purposes. According to this [site here](https://pythontips.com/2018/06/03/top-14-most-famous-python-libraries-frameworks/), some libraries are used for scraping websites ([scrapy](https://scrapy.org/)) or to send https requests ([requests](http://docs.python-requests.org/en/master/)). Based on this, Python is mainly used to alter, create, or to analyze web data and sources.\n",
    "\n",
    "When we worked with R, we used ggplot as a way to plot out graphs that was useful for visualization. In python, a suitable alternative is [mathplotlib](https://matplotlib.org/)\n",
    "\n",
    "For making dataframes (the same as with R), we can use [pandas](https://pandas.pydata.org) as a way to replicate dataframes using python. "
   ]
  },
  {
   "cell_type": "markdown",
   "metadata": {},
   "source": [
    "### Task 3\n",
    "\n",
    "Some of the differences between Python and R are significant. One of the main differences is how it stores data. While R used dataframes as a way for users to manipulate and view data, Python uses a coombination of sets and lists for users to store and manipulate data. \n",
    "\n",
    "Another difference between R and Python is that Python and R uses different syntax to call libraries to use in a document. While R uses the library command, Python uses the import command. \n",
    "\n",
    "Finally, functions are defined different using R and Python. R simply uses the \"function command\" to create a function, while Python uses the \"def\" command at the start of aline to signify the start of the function."
   ]
  },
  {
   "cell_type": "markdown",
   "metadata": {},
   "source": [
    "### Task 4"
   ]
  },
  {
   "cell_type": "code",
   "execution_count": 2,
   "metadata": {},
   "outputs": [
    {
     "name": "stdout",
     "output_type": "stream",
     "text": [
      "This is one cool sentence.\n"
     ]
    }
   ],
   "source": [
    "a = \"This \"\n",
    "b = \"is \"\n",
    "c = \"one \" \n",
    "d = \"cool \"\n",
    "e = \"sentence.\"\n",
    "\n",
    "print(a + b + c + d + e)"
   ]
  },
  {
   "cell_type": "markdown",
   "metadata": {},
   "source": [
    "### Task 5"
   ]
  },
  {
   "cell_type": "code",
   "execution_count": 3,
   "metadata": {},
   "outputs": [
    {
     "name": "stdout",
     "output_type": "stream",
     "text": [
      "This is one cool sentence. 15092\n",
      "THIS IS ONE COOL SENTENCE. 15092\n"
     ]
    }
   ],
   "source": [
    "f = 15092\n",
    "f = str(f)\n",
    "print (a + b + c + d + e + \" \" + f)\n",
    "print (a + b + c + d + e + \" \" + f).upper()"
   ]
  },
  {
   "cell_type": "markdown",
   "metadata": {},
   "source": [
    "### Task 6"
   ]
  },
  {
   "cell_type": "code",
   "execution_count": 29,
   "metadata": {
    "scrolled": false
   },
   "outputs": [
    {
     "name": "stdout",
     "output_type": "stream",
     "text": [
      "This is one cool sentence.15092\n",
      "3\n",
      "8\n"
     ]
    }
   ],
   "source": [
    "# Putting everything into a list\n",
    "mySentence = [a, b, c, d, e, f]\n",
    "\n",
    "# Joining list mySentence into one giant string\n",
    "stringSentence = ''.join(mySentence)\n",
    "\n",
    "print(stringSentence)\n",
    "\n",
    "# Counting all of the \"o\"s in the string\n",
    "print(stringSentence.count(\"o\"))\n",
    "\n",
    "# Finding \"one\" in my sentence\n",
    "print(stringSentence.find(\"one\"))"
   ]
  },
  {
   "cell_type": "markdown",
   "metadata": {},
   "source": [
    "### Task 7"
   ]
  },
  {
   "cell_type": "code",
   "execution_count": 36,
   "metadata": {},
   "outputs": [
    {
     "name": "stdout",
     "output_type": "stream",
     "text": [
      "This is one coo\n"
     ]
    }
   ],
   "source": [
    "# Printing just the first half of my string\n",
    "\n",
    "print(stringSentence[0:len(stringSentence)/2])"
   ]
  },
  {
   "cell_type": "markdown",
   "metadata": {},
   "source": [
    "### Task 8"
   ]
  },
  {
   "cell_type": "code",
   "execution_count": 38,
   "metadata": {},
   "outputs": [
    {
     "name": "stdout",
     "output_type": "stream",
     "text": [
      "This is one cool sentence.\n",
      "This is one radical sentence.\n"
     ]
    }
   ],
   "source": [
    "# Stripping out the number in my sentence\n",
    "\n",
    "stringSentence = stringSentence.strip(\"15092\")\n",
    "print stringSentence\n",
    "\n",
    "# Replacing the cool with radical in my sentence\n",
    "stringSentence = stringSentence.replace(\"cool\",\"radical\")\n",
    "print stringSentence"
   ]
  },
  {
   "cell_type": "markdown",
   "metadata": {},
   "source": [
    "### Task 9"
   ]
  },
  {
   "cell_type": "code",
   "execution_count": 41,
   "metadata": {
    "scrolled": true
   },
   "outputs": [
    {
     "name": "stdout",
     "output_type": "stream",
     "text": [
      "['This', 'is', 'one', 'radical', 'sentence.']\n",
      "['This', 'is', 'one', 'radical', 'cool', 'sentence.']\n"
     ]
    }
   ],
   "source": [
    "# Splitting my sentence back into a list\n",
    "\n",
    "newSent = stringSentence.split()\n",
    "print newSent\n",
    "\n",
    "# inserting another item to the middle of the list\n",
    "newSent.insert(4, \"cool\")\n",
    "print newSent"
   ]
  },
  {
   "cell_type": "markdown",
   "metadata": {},
   "source": [
    "### Task 10"
   ]
  },
  {
   "cell_type": "code",
   "execution_count": 52,
   "metadata": {
    "scrolled": true
   },
   "outputs": [
    {
     "name": "stdout",
     "output_type": "stream",
     "text": [
      "2\n",
      "1st Quartile\n"
     ]
    }
   ],
   "source": [
    "# importing random module\n",
    "import random\n",
    "\n",
    "randNum = random.randint(1,101)\n",
    "print randNum\n",
    "\n",
    "if randNum <= 25:\n",
    "    print(\"1st Quartile\")\n",
    "elif randNum > 25 and randNum <= 50:\n",
    "    print(\"2nd Quartile\")\n",
    "elif randNum > 50 and randNum <= 75:\n",
    "    print(\"3rd Quartile\")\n",
    "else:\n",
    "    print(\"4th Quartile\")"
   ]
  },
  {
   "cell_type": "markdown",
   "metadata": {},
   "source": [
    "### Task 11"
   ]
  },
  {
   "cell_type": "code",
   "execution_count": 59,
   "metadata": {},
   "outputs": [
    {
     "name": "stdout",
     "output_type": "stream",
     "text": [
      "Warning, residents of Honolulu, temperatures will reach sub-zero temperatures today, please stay indoors if possible\n",
      "Warning, residents of Seattle, temperatures will reach sub-zero temperatures today, please stay indoors if possible\n",
      "Warning, residents of Tokyo, temperatures will reach sub-zero temperatures today, please stay indoors if possible\n",
      "Warning, residents of Shanghai, temperatures will reach sub-zero temperatures today, please stay indoors if possible\n",
      "Warning, residents of Beijing, temperatures will reach sub-zero temperatures today, please stay indoors if possible\n",
      "Warning, residents of London, temperatures will reach sub-zero temperatures today, please stay indoors if possible\n"
     ]
    }
   ],
   "source": [
    "cities = [\"Honolulu\", \"Seattle\", \"Tokyo\", \"Shanghai\", \"Beijing\", \"London\"]\n",
    "\n",
    "for city in cities:\n",
    "    print(\"Warning, residents of \" + city + \", temperatures will reach sub-zero temperatures today, please stay indoors if possible\")"
   ]
  },
  {
   "cell_type": "markdown",
   "metadata": {},
   "source": [
    "### Task 12"
   ]
  },
  {
   "cell_type": "code",
   "execution_count": 62,
   "metadata": {},
   "outputs": [
    {
     "name": "stdout",
     "output_type": "stream",
     "text": [
      "U://Users/Justin/Geog_458/Washington.shp\n",
      "U://Users/Justin/Geog_458/California.shp\n",
      "U://Users/Justin/Geog_458/Nevada.shp\n",
      "U://Users/Justin/Geog_458/Idaho.shp\n",
      "U://Users/Justin/Geog_458/Montana.shp\n",
      "U://Users/Justin/Geog_458/Utah.shp\n",
      "U://Users/Justin/Geog_458/Colorado.shp\n",
      "U://Users/Justin/Geog_458/New Mexico.shp\n"
     ]
    }
   ],
   "source": [
    "shp = []\n",
    "shapeStates =[\"Washington\", \"California\", \"Nevada\", \"Idaho\", \"Montana\", \"Utah\", \"Colorado\", \"New Mexico\"]\n",
    "for states in shapeStates:\n",
    "    print(\"U://Users/Justin/Geog_458/\"+ states + \".shp\")\n",
    "    shp.append(\"U://Users/Justin/Geog_458/\"+ states + \".shp\")"
   ]
  },
  {
   "cell_type": "markdown",
   "metadata": {},
   "source": [
    "### Task 13"
   ]
  },
  {
   "cell_type": "code",
   "execution_count": 67,
   "metadata": {},
   "outputs": [
    {
     "name": "stdout",
     "output_type": "stream",
     "text": [
      "T-minus 10\n",
      "T-minus 9\n",
      "T-minus 8\n",
      "T-minus 7\n",
      "T-minus 6\n",
      "T-minus 5\n",
      "T-minus 4\n",
      "T-minus 3\n",
      "T-minus 2\n",
      "T-minus 1\n",
      "T-minus 0\n"
     ]
    }
   ],
   "source": [
    "count = 10\n",
    "while count >= 0:\n",
    "    print(\"T-minus \" + str(count))\n",
    "    count -= 1"
   ]
  },
  {
   "cell_type": "markdown",
   "metadata": {},
   "source": [
    "### Task 14"
   ]
  },
  {
   "cell_type": "code",
   "execution_count": 69,
   "metadata": {},
   "outputs": [
    {
     "name": "stdout",
     "output_type": "stream",
     "text": [
      "T-minus 10\n",
      "T-minus 9\n",
      "T-minus 8\n",
      "T-minus 7\n",
      "T-minus 6\n",
      "T-minus 5\n",
      "T-minus 4\n",
      "T-minus 3\n",
      "T-minus 2\n",
      "T-minus 1\n",
      "T-minus 0\n"
     ]
    }
   ],
   "source": [
    "def countdown(num):\n",
    "    count = num\n",
    "    while count >= 0:\n",
    "        print(\"T-minus \" + str(count))\n",
    "        count -= 1\n",
    "        \n",
    "countdown(10)"
   ]
  },
  {
   "cell_type": "markdown",
   "metadata": {},
   "source": [
    "### Task 14"
   ]
  },
  {
   "cell_type": "code",
   "execution_count": 72,
   "metadata": {},
   "outputs": [
    {
     "name": "stdout",
     "output_type": "stream",
     "text": [
      "Error\n"
     ]
    }
   ],
   "source": [
    "def quartile_calc(number):\n",
    "    if number >= 0 and number <= 25:\n",
    "        print(\"1st Quartile\")\n",
    "    elif number > 25 and number <= 50:\n",
    "        print(\"2nd Quartile\")\n",
    "    elif number > 50 and number <= 75:\n",
    "        print(\"3rd Quartile\")\n",
    "    elif number > 75 and number <= 100:\n",
    "        print(\"4th Quartile\")\n",
    "    else:\n",
    "        print(\"Error\")"
   ]
  },
  {
   "cell_type": "code",
   "execution_count": null,
   "metadata": {},
   "outputs": [],
   "source": []
  }
 ],
 "metadata": {
  "kernelspec": {
   "display_name": "Python 2",
   "language": "python",
   "name": "python2"
  }
 },
 "nbformat": 4,
 "nbformat_minor": 2
}
